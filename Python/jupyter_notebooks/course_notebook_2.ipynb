{
 "cells": [
  {
   "cell_type": "markdown",
   "metadata": {},
   "source": [
    "# A small GFF parser\n",
    "\n",
    "In this example I would like ..."
   ]
  },
  {
   "cell_type": "code",
   "execution_count": 32,
   "metadata": {
    "collapsed": false
   },
   "outputs": [
    {
     "data": {
      "text/plain": [
       "9.1"
      ]
     },
     "execution_count": 32,
     "metadata": {},
     "output_type": "execute_result"
    }
   ],
   "source": [
    "float(9.1)"
   ]
  },
  {
   "cell_type": "markdown",
   "metadata": {},
   "source": [
    "## Calculate the average gene length"
   ]
  },
  {
   "cell_type": "code",
   "execution_count": 43,
   "metadata": {
    "collapsed": false
   },
   "outputs": [
    {
     "name": "stdout",
     "output_type": "stream",
     "text": [
      "3447691\n",
      "3804\n",
      "906.3330704521557\n"
     ]
    }
   ],
   "source": [
    "gff_fh = open(\"NC_017162.gff\")\n",
    "lengths = []\n",
    "for line in gff_fh:\n",
    "    if line.startswith(\"#\"):\n",
    "        continue\n",
    "    entry = line.split(\"\\t\")\n",
    "    if entry[2] != \"gene\":\n",
    "        continue\n",
    "    cur_length = int(entry[4]) - int(entry[3])\n",
    "    lengths.append(cur_length)\n",
    "    # print(entry[0:8], cur_length)\n",
    "# print(lengths)\n",
    "sum_of_lengths = sum(lengths)\n",
    "number_of_genes = len(lengths)\n",
    "print(sum_of_lengths)\n",
    "print(number_of_genes)\n",
    "average_gene_length = sum_of_lengths / number_of_genes\n",
    "print(average_gene_length)"
   ]
  },
  {
   "cell_type": "markdown",
   "metadata": {},
   "source": [
    "## Generate a histogram of gene legth"
   ]
  },
  {
   "cell_type": "code",
   "execution_count": 45,
   "metadata": {
    "collapsed": true
   },
   "outputs": [],
   "source": [
    "%matplotlib inline"
   ]
  },
  {
   "cell_type": "code",
   "execution_count": 46,
   "metadata": {
    "collapsed": false
   },
   "outputs": [
    {
     "name": "stdout",
     "output_type": "stream",
     "text": [
      "906.3330704521557\n"
     ]
    }
   ],
   "source": [
    "gff_fh = open(\"NC_017162.gff\")\n",
    "lengths = []\n",
    "for line in gff_fh:\n",
    "    if line.startswith(\"#\"):\n",
    "        continue\n",
    "    entry = line.split(\"\\t\")\n",
    "    if entry[2] != \"gene\":\n",
    "        continue\n",
    "    cur_length = int(entry[4]) - int(entry[3])\n",
    "    lengths.append(cur_length)\n",
    "    # print(entry[0:8], cur_length)\n",
    "# print(lengths)\n",
    "sum_of_lengths = sum(lengths)\n",
    "number_of_genes = len(lengths)\n",
    "average_gene_length = sum_of_lengths / number_of_genes\n",
    "print(average_gene_length)"
   ]
  },
  {
   "cell_type": "code",
   "execution_count": 47,
   "metadata": {
    "collapsed": true
   },
   "outputs": [],
   "source": [
    "import matplotlib.pyplot as plt"
   ]
  },
  {
   "cell_type": "code",
   "execution_count": 54,
   "metadata": {
    "collapsed": false
   },
   "outputs": [
    {
     "data": {
      "image/png": "[encoded data removed]",
      "text/plain": [
       "<matplotlib.figure.Figure at 0x7fd44941c240>"
      ]
     },
     "metadata": {},
     "output_type": "display_data"
    }
   ],
   "source": [
    "hist_date = plt.hist(lengths, bins=100, color=\"red\")"
   ]
  },
  {
   "cell_type": "code",
   "execution_count": null,
   "metadata": {
    "collapsed": true
   },
   "outputs": [],
   "source": []
  }
 ],
 "metadata": {
  "kernelspec": {
   "display_name": "Python 3",
   "language": "python",
   "name": "python3"
  },
  "language_info": {
   "codemirror_mode": {
    "name": "ipython",
    "version": 3
   },
   "file_extension": ".py",
   "mimetype": "text/x-python",
   "name": "python",
   "nbconvert_exporter": "python",
   "pygments_lexer": "ipython3",
   "version": "3.5.2"
  }
 },
 "nbformat": 4,
 "nbformat_minor": 0
}
